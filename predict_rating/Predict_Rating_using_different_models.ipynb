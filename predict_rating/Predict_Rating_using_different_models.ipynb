{
  "nbformat": 4,
  "nbformat_minor": 0,
  "metadata": {
    "colab": {
      "provenance": []
    },
    "kernelspec": {
      "name": "python3",
      "display_name": "Python 3"
    },
    "language_info": {
      "name": "python"
    }
  },
  "cells": [
    {
      "cell_type": "code",
      "execution_count": 55,
      "metadata": {
        "id": "nMrIXNo0-3nR"
      },
      "outputs": [],
      "source": [
        "import numpy as np\n",
        "import pandas as pd\n",
        "import matplotlib.pyplot as plt\n",
        "\n",
        "# encoding\n",
        "from sklearn.preprocessing import LabelEncoder\n",
        "\n",
        "# 데이터 split\n",
        "from sklearn.model_selection import train_test_split\n",
        "\n",
        "# 사용 모델\n",
        "import xgboost as xgb\n",
        "import lightgbm as lgb\n",
        "from sklearn.ensemble import RandomForestRegressor\n",
        "\n",
        "# 파라미터 조정\n",
        "from sklearn.model_selection import GridSearchCV\n",
        "\n",
        "# 평가\n",
        "from sklearn.metrics import mean_squared_error, mean_absolute_error, r2_score\n",
        "\n",
        "# 모델 저장\n",
        "import joblib\n"
      ]
    },
    {
      "cell_type": "markdown",
      "source": [
        "## 데이터 확인"
      ],
      "metadata": {
        "id": "2qRhwLZVZQtd"
      }
    },
    {
      "cell_type": "code",
      "source": [
        "df = pd.read_csv('preprocessed_SeriesOn.csv')\n",
        "df.columns"
      ],
      "metadata": {
        "colab": {
          "base_uri": "https://localhost:8080/"
        },
        "id": "BwAH04sXGR3b",
        "outputId": "04086668-c466-4a38-eb74-22d0f594a24d"
      },
      "execution_count": 58,
      "outputs": [
        {
          "output_type": "execute_result",
          "data": {
            "text/plain": [
              "Index(['title', 'year', 'version', 'type', 'director', 'actor', 'age',\n",
              "       'runtime', 'rating', 'like', 'comment', 'isDRM', 'cost', 'period',\n",
              "       'is_action', 'is_comedy', 'is_drama', 'is_melo', 'is_horror',\n",
              "       'is_fantasy', 'is_animation', 'is_DQ', 'is_indie', 'is_concert'],\n",
              "      dtype='object')"
            ]
          },
          "metadata": {},
          "execution_count": 58
        }
      ]
    },
    {
      "cell_type": "code",
      "source": [
        "# df.drop(['title', 'comment'], axis=1, inplace=True)\n",
        "df.replace('Null', None, inplace=True)\n",
        "df['isDRM'].replace('DRM', 1, inplace=True)\n",
        "df['isDRM'].replace('DRM_free', 0, inplace=True)"
      ],
      "metadata": {
        "id": "rf8bsGgRCiKe"
      },
      "execution_count": 59,
      "outputs": []
    },
    {
      "cell_type": "code",
      "source": [
        "df.info()"
      ],
      "metadata": {
        "colab": {
          "base_uri": "https://localhost:8080/"
        },
        "id": "_2gBuaPCCxcN",
        "outputId": "ac06593d-d851-4fc4-9278-236b6ea8d29f"
      },
      "execution_count": 14,
      "outputs": [
        {
          "output_type": "stream",
          "name": "stdout",
          "text": [
            "<class 'pandas.core.frame.DataFrame'>\n",
            "RangeIndex: 29185 entries, 0 to 29184\n",
            "Data columns (total 24 columns):\n",
            " #   Column        Non-Null Count  Dtype  \n",
            "---  ------        --------------  -----  \n",
            " 0   title         29185 non-null  object \n",
            " 1   year          29185 non-null  int64  \n",
            " 2   version       2785 non-null   object \n",
            " 3   type          29185 non-null  object \n",
            " 4   director      29143 non-null  object \n",
            " 5   actor         27503 non-null  object \n",
            " 6   age           29185 non-null  object \n",
            " 7   runtime       29185 non-null  int64  \n",
            " 8   rating        29185 non-null  float64\n",
            " 9   like          29185 non-null  int64  \n",
            " 10  comment       29185 non-null  int64  \n",
            " 11  isDRM         29185 non-null  int64  \n",
            " 12  cost          29185 non-null  int64  \n",
            " 13  period        29185 non-null  object \n",
            " 14  is_action     29185 non-null  int64  \n",
            " 15  is_comedy     29185 non-null  int64  \n",
            " 16  is_drama      29185 non-null  int64  \n",
            " 17  is_melo       29185 non-null  int64  \n",
            " 18  is_horror     29185 non-null  int64  \n",
            " 19  is_fantasy    29185 non-null  int64  \n",
            " 20  is_animation  29185 non-null  int64  \n",
            " 21  is_DQ         29185 non-null  int64  \n",
            " 22  is_indie      29185 non-null  int64  \n",
            " 23  is_concert    29185 non-null  int64  \n",
            "dtypes: float64(1), int64(16), object(7)\n",
            "memory usage: 5.3+ MB\n"
          ]
        }
      ]
    },
    {
      "cell_type": "code",
      "source": [
        "df.head()"
      ],
      "metadata": {
        "colab": {
          "base_uri": "https://localhost:8080/",
          "height": 933
        },
        "id": "H9d8gXmCCwIG",
        "outputId": "202a0c5a-555d-43e1-8a35-2583d771fa77"
      },
      "execution_count": 15,
      "outputs": [
        {
          "output_type": "execute_result",
          "data": {
            "text/plain": [
              "          title  year version type director                            actor  \\\n",
              "0    '개그' 더 크라운  2021    None   구매  아담 크라우스               로렌 애슐리 카터,트레이시 페레즈   \n",
              "1  '데이빗 린치' 단편선     0    None   구매   데이빗 린치                             None   \n",
              "2        ...ing  2003    None   구매      이언희  임수정,김래원,이미숙,최덕문,이성경,김지영,윤덕현,이유정   \n",
              "3        ...ing  2003    None   대여      이언희  임수정,김래원,이미숙,최덕문,이성경,김지영,윤덕현,이유정   \n",
              "4             0     0    None   구매      이보리              박현수,이보리,전혜원,이민지,공예림   \n",
              "\n",
              "       age  runtime  rating  like  ...  is_action  is_comedy  is_drama  \\\n",
              "0  15세 관람가       89    6.33     0  ...          0          1         0   \n",
              "1  19세 관람가      148   10.00    21  ...          0          0         1   \n",
              "2  12세 관람가      103    8.89     9  ...          0          0         0   \n",
              "3  12세 관람가      103    8.89     4  ...          0          0         0   \n",
              "4  15세 관람가       18   10.00     1  ...          0          0         1   \n",
              "\n",
              "  is_melo  is_horror  is_fantasy  is_animation  is_DQ  is_indie  is_concert  \n",
              "0       0          1           0             0      0         0           0  \n",
              "1       0          0           0             0      0         0           0  \n",
              "2       1          0           0             0      0         0           0  \n",
              "3       1          0           0             0      0         0           0  \n",
              "4       0          0           0             0      0         0           0  \n",
              "\n",
              "[5 rows x 24 columns]"
            ],
            "text/html": [
              "\n",
              "  <div id=\"df-de7be997-f53d-47f1-a7ab-ea40cf54e094\" class=\"colab-df-container\">\n",
              "    <div>\n",
              "<style scoped>\n",
              "    .dataframe tbody tr th:only-of-type {\n",
              "        vertical-align: middle;\n",
              "    }\n",
              "\n",
              "    .dataframe tbody tr th {\n",
              "        vertical-align: top;\n",
              "    }\n",
              "\n",
              "    .dataframe thead th {\n",
              "        text-align: right;\n",
              "    }\n",
              "</style>\n",
              "<table border=\"1\" class=\"dataframe\">\n",
              "  <thead>\n",
              "    <tr style=\"text-align: right;\">\n",
              "      <th></th>\n",
              "      <th>title</th>\n",
              "      <th>year</th>\n",
              "      <th>version</th>\n",
              "      <th>type</th>\n",
              "      <th>director</th>\n",
              "      <th>actor</th>\n",
              "      <th>age</th>\n",
              "      <th>runtime</th>\n",
              "      <th>rating</th>\n",
              "      <th>like</th>\n",
              "      <th>...</th>\n",
              "      <th>is_action</th>\n",
              "      <th>is_comedy</th>\n",
              "      <th>is_drama</th>\n",
              "      <th>is_melo</th>\n",
              "      <th>is_horror</th>\n",
              "      <th>is_fantasy</th>\n",
              "      <th>is_animation</th>\n",
              "      <th>is_DQ</th>\n",
              "      <th>is_indie</th>\n",
              "      <th>is_concert</th>\n",
              "    </tr>\n",
              "  </thead>\n",
              "  <tbody>\n",
              "    <tr>\n",
              "      <th>0</th>\n",
              "      <td>'개그' 더 크라운</td>\n",
              "      <td>2021</td>\n",
              "      <td>None</td>\n",
              "      <td>구매</td>\n",
              "      <td>아담 크라우스</td>\n",
              "      <td>로렌 애슐리 카터,트레이시 페레즈</td>\n",
              "      <td>15세 관람가</td>\n",
              "      <td>89</td>\n",
              "      <td>6.33</td>\n",
              "      <td>0</td>\n",
              "      <td>...</td>\n",
              "      <td>0</td>\n",
              "      <td>1</td>\n",
              "      <td>0</td>\n",
              "      <td>0</td>\n",
              "      <td>1</td>\n",
              "      <td>0</td>\n",
              "      <td>0</td>\n",
              "      <td>0</td>\n",
              "      <td>0</td>\n",
              "      <td>0</td>\n",
              "    </tr>\n",
              "    <tr>\n",
              "      <th>1</th>\n",
              "      <td>'데이빗 린치' 단편선</td>\n",
              "      <td>0</td>\n",
              "      <td>None</td>\n",
              "      <td>구매</td>\n",
              "      <td>데이빗 린치</td>\n",
              "      <td>None</td>\n",
              "      <td>19세 관람가</td>\n",
              "      <td>148</td>\n",
              "      <td>10.00</td>\n",
              "      <td>21</td>\n",
              "      <td>...</td>\n",
              "      <td>0</td>\n",
              "      <td>0</td>\n",
              "      <td>1</td>\n",
              "      <td>0</td>\n",
              "      <td>0</td>\n",
              "      <td>0</td>\n",
              "      <td>0</td>\n",
              "      <td>0</td>\n",
              "      <td>0</td>\n",
              "      <td>0</td>\n",
              "    </tr>\n",
              "    <tr>\n",
              "      <th>2</th>\n",
              "      <td>...ing</td>\n",
              "      <td>2003</td>\n",
              "      <td>None</td>\n",
              "      <td>구매</td>\n",
              "      <td>이언희</td>\n",
              "      <td>임수정,김래원,이미숙,최덕문,이성경,김지영,윤덕현,이유정</td>\n",
              "      <td>12세 관람가</td>\n",
              "      <td>103</td>\n",
              "      <td>8.89</td>\n",
              "      <td>9</td>\n",
              "      <td>...</td>\n",
              "      <td>0</td>\n",
              "      <td>0</td>\n",
              "      <td>0</td>\n",
              "      <td>1</td>\n",
              "      <td>0</td>\n",
              "      <td>0</td>\n",
              "      <td>0</td>\n",
              "      <td>0</td>\n",
              "      <td>0</td>\n",
              "      <td>0</td>\n",
              "    </tr>\n",
              "    <tr>\n",
              "      <th>3</th>\n",
              "      <td>...ing</td>\n",
              "      <td>2003</td>\n",
              "      <td>None</td>\n",
              "      <td>대여</td>\n",
              "      <td>이언희</td>\n",
              "      <td>임수정,김래원,이미숙,최덕문,이성경,김지영,윤덕현,이유정</td>\n",
              "      <td>12세 관람가</td>\n",
              "      <td>103</td>\n",
              "      <td>8.89</td>\n",
              "      <td>4</td>\n",
              "      <td>...</td>\n",
              "      <td>0</td>\n",
              "      <td>0</td>\n",
              "      <td>0</td>\n",
              "      <td>1</td>\n",
              "      <td>0</td>\n",
              "      <td>0</td>\n",
              "      <td>0</td>\n",
              "      <td>0</td>\n",
              "      <td>0</td>\n",
              "      <td>0</td>\n",
              "    </tr>\n",
              "    <tr>\n",
              "      <th>4</th>\n",
              "      <td>0</td>\n",
              "      <td>0</td>\n",
              "      <td>None</td>\n",
              "      <td>구매</td>\n",
              "      <td>이보리</td>\n",
              "      <td>박현수,이보리,전혜원,이민지,공예림</td>\n",
              "      <td>15세 관람가</td>\n",
              "      <td>18</td>\n",
              "      <td>10.00</td>\n",
              "      <td>1</td>\n",
              "      <td>...</td>\n",
              "      <td>0</td>\n",
              "      <td>0</td>\n",
              "      <td>1</td>\n",
              "      <td>0</td>\n",
              "      <td>0</td>\n",
              "      <td>0</td>\n",
              "      <td>0</td>\n",
              "      <td>0</td>\n",
              "      <td>0</td>\n",
              "      <td>0</td>\n",
              "    </tr>\n",
              "  </tbody>\n",
              "</table>\n",
              "<p>5 rows × 24 columns</p>\n",
              "</div>\n",
              "    <div class=\"colab-df-buttons\">\n",
              "\n",
              "  <div class=\"colab-df-container\">\n",
              "    <button class=\"colab-df-convert\" onclick=\"convertToInteractive('df-de7be997-f53d-47f1-a7ab-ea40cf54e094')\"\n",
              "            title=\"Convert this dataframe to an interactive table.\"\n",
              "            style=\"display:none;\">\n",
              "\n",
              "  <svg xmlns=\"http://www.w3.org/2000/svg\" height=\"24px\" viewBox=\"0 -960 960 960\">\n",
              "    <path d=\"M120-120v-720h720v720H120Zm60-500h600v-160H180v160Zm220 220h160v-160H400v160Zm0 220h160v-160H400v160ZM180-400h160v-160H180v160Zm440 0h160v-160H620v160ZM180-180h160v-160H180v160Zm440 0h160v-160H620v160Z\"/>\n",
              "  </svg>\n",
              "    </button>\n",
              "\n",
              "  <style>\n",
              "    .colab-df-container {\n",
              "      display:flex;\n",
              "      gap: 12px;\n",
              "    }\n",
              "\n",
              "    .colab-df-convert {\n",
              "      background-color: #E8F0FE;\n",
              "      border: none;\n",
              "      border-radius: 50%;\n",
              "      cursor: pointer;\n",
              "      display: none;\n",
              "      fill: #1967D2;\n",
              "      height: 32px;\n",
              "      padding: 0 0 0 0;\n",
              "      width: 32px;\n",
              "    }\n",
              "\n",
              "    .colab-df-convert:hover {\n",
              "      background-color: #E2EBFA;\n",
              "      box-shadow: 0px 1px 2px rgba(60, 64, 67, 0.3), 0px 1px 3px 1px rgba(60, 64, 67, 0.15);\n",
              "      fill: #174EA6;\n",
              "    }\n",
              "\n",
              "    .colab-df-buttons div {\n",
              "      margin-bottom: 4px;\n",
              "    }\n",
              "\n",
              "    [theme=dark] .colab-df-convert {\n",
              "      background-color: #3B4455;\n",
              "      fill: #D2E3FC;\n",
              "    }\n",
              "\n",
              "    [theme=dark] .colab-df-convert:hover {\n",
              "      background-color: #434B5C;\n",
              "      box-shadow: 0px 1px 3px 1px rgba(0, 0, 0, 0.15);\n",
              "      filter: drop-shadow(0px 1px 2px rgba(0, 0, 0, 0.3));\n",
              "      fill: #FFFFFF;\n",
              "    }\n",
              "  </style>\n",
              "\n",
              "    <script>\n",
              "      const buttonEl =\n",
              "        document.querySelector('#df-de7be997-f53d-47f1-a7ab-ea40cf54e094 button.colab-df-convert');\n",
              "      buttonEl.style.display =\n",
              "        google.colab.kernel.accessAllowed ? 'block' : 'none';\n",
              "\n",
              "      async function convertToInteractive(key) {\n",
              "        const element = document.querySelector('#df-de7be997-f53d-47f1-a7ab-ea40cf54e094');\n",
              "        const dataTable =\n",
              "          await google.colab.kernel.invokeFunction('convertToInteractive',\n",
              "                                                    [key], {});\n",
              "        if (!dataTable) return;\n",
              "\n",
              "        const docLinkHtml = 'Like what you see? Visit the ' +\n",
              "          '<a target=\"_blank\" href=https://colab.research.google.com/notebooks/data_table.ipynb>data table notebook</a>'\n",
              "          + ' to learn more about interactive tables.';\n",
              "        element.innerHTML = '';\n",
              "        dataTable['output_type'] = 'display_data';\n",
              "        await google.colab.output.renderOutput(dataTable, element);\n",
              "        const docLink = document.createElement('div');\n",
              "        docLink.innerHTML = docLinkHtml;\n",
              "        element.appendChild(docLink);\n",
              "      }\n",
              "    </script>\n",
              "  </div>\n",
              "\n",
              "\n",
              "<div id=\"df-2399e18f-120b-4ac4-a661-92df36c8c1b4\">\n",
              "  <button class=\"colab-df-quickchart\" onclick=\"quickchart('df-2399e18f-120b-4ac4-a661-92df36c8c1b4')\"\n",
              "            title=\"Suggest charts\"\n",
              "            style=\"display:none;\">\n",
              "\n",
              "<svg xmlns=\"http://www.w3.org/2000/svg\" height=\"24px\"viewBox=\"0 0 24 24\"\n",
              "     width=\"24px\">\n",
              "    <g>\n",
              "        <path d=\"M19 3H5c-1.1 0-2 .9-2 2v14c0 1.1.9 2 2 2h14c1.1 0 2-.9 2-2V5c0-1.1-.9-2-2-2zM9 17H7v-7h2v7zm4 0h-2V7h2v10zm4 0h-2v-4h2v4z\"/>\n",
              "    </g>\n",
              "</svg>\n",
              "  </button>\n",
              "\n",
              "<style>\n",
              "  .colab-df-quickchart {\n",
              "      --bg-color: #E8F0FE;\n",
              "      --fill-color: #1967D2;\n",
              "      --hover-bg-color: #E2EBFA;\n",
              "      --hover-fill-color: #174EA6;\n",
              "      --disabled-fill-color: #AAA;\n",
              "      --disabled-bg-color: #DDD;\n",
              "  }\n",
              "\n",
              "  [theme=dark] .colab-df-quickchart {\n",
              "      --bg-color: #3B4455;\n",
              "      --fill-color: #D2E3FC;\n",
              "      --hover-bg-color: #434B5C;\n",
              "      --hover-fill-color: #FFFFFF;\n",
              "      --disabled-bg-color: #3B4455;\n",
              "      --disabled-fill-color: #666;\n",
              "  }\n",
              "\n",
              "  .colab-df-quickchart {\n",
              "    background-color: var(--bg-color);\n",
              "    border: none;\n",
              "    border-radius: 50%;\n",
              "    cursor: pointer;\n",
              "    display: none;\n",
              "    fill: var(--fill-color);\n",
              "    height: 32px;\n",
              "    padding: 0;\n",
              "    width: 32px;\n",
              "  }\n",
              "\n",
              "  .colab-df-quickchart:hover {\n",
              "    background-color: var(--hover-bg-color);\n",
              "    box-shadow: 0 1px 2px rgba(60, 64, 67, 0.3), 0 1px 3px 1px rgba(60, 64, 67, 0.15);\n",
              "    fill: var(--button-hover-fill-color);\n",
              "  }\n",
              "\n",
              "  .colab-df-quickchart-complete:disabled,\n",
              "  .colab-df-quickchart-complete:disabled:hover {\n",
              "    background-color: var(--disabled-bg-color);\n",
              "    fill: var(--disabled-fill-color);\n",
              "    box-shadow: none;\n",
              "  }\n",
              "\n",
              "  .colab-df-spinner {\n",
              "    border: 2px solid var(--fill-color);\n",
              "    border-color: transparent;\n",
              "    border-bottom-color: var(--fill-color);\n",
              "    animation:\n",
              "      spin 1s steps(1) infinite;\n",
              "  }\n",
              "\n",
              "  @keyframes spin {\n",
              "    0% {\n",
              "      border-color: transparent;\n",
              "      border-bottom-color: var(--fill-color);\n",
              "      border-left-color: var(--fill-color);\n",
              "    }\n",
              "    20% {\n",
              "      border-color: transparent;\n",
              "      border-left-color: var(--fill-color);\n",
              "      border-top-color: var(--fill-color);\n",
              "    }\n",
              "    30% {\n",
              "      border-color: transparent;\n",
              "      border-left-color: var(--fill-color);\n",
              "      border-top-color: var(--fill-color);\n",
              "      border-right-color: var(--fill-color);\n",
              "    }\n",
              "    40% {\n",
              "      border-color: transparent;\n",
              "      border-right-color: var(--fill-color);\n",
              "      border-top-color: var(--fill-color);\n",
              "    }\n",
              "    60% {\n",
              "      border-color: transparent;\n",
              "      border-right-color: var(--fill-color);\n",
              "    }\n",
              "    80% {\n",
              "      border-color: transparent;\n",
              "      border-right-color: var(--fill-color);\n",
              "      border-bottom-color: var(--fill-color);\n",
              "    }\n",
              "    90% {\n",
              "      border-color: transparent;\n",
              "      border-bottom-color: var(--fill-color);\n",
              "    }\n",
              "  }\n",
              "</style>\n",
              "\n",
              "  <script>\n",
              "    async function quickchart(key) {\n",
              "      const quickchartButtonEl =\n",
              "        document.querySelector('#' + key + ' button');\n",
              "      quickchartButtonEl.disabled = true;  // To prevent multiple clicks.\n",
              "      quickchartButtonEl.classList.add('colab-df-spinner');\n",
              "      try {\n",
              "        const charts = await google.colab.kernel.invokeFunction(\n",
              "            'suggestCharts', [key], {});\n",
              "      } catch (error) {\n",
              "        console.error('Error during call to suggestCharts:', error);\n",
              "      }\n",
              "      quickchartButtonEl.classList.remove('colab-df-spinner');\n",
              "      quickchartButtonEl.classList.add('colab-df-quickchart-complete');\n",
              "    }\n",
              "    (() => {\n",
              "      let quickchartButtonEl =\n",
              "        document.querySelector('#df-2399e18f-120b-4ac4-a661-92df36c8c1b4 button');\n",
              "      quickchartButtonEl.style.display =\n",
              "        google.colab.kernel.accessAllowed ? 'block' : 'none';\n",
              "    })();\n",
              "  </script>\n",
              "</div>\n",
              "\n",
              "    </div>\n",
              "  </div>\n"
            ],
            "application/vnd.google.colaboratory.intrinsic+json": {
              "type": "dataframe",
              "variable_name": "df"
            }
          },
          "metadata": {},
          "execution_count": 15
        }
      ]
    },
    {
      "cell_type": "markdown",
      "source": [
        "## 인코딩"
      ],
      "metadata": {
        "id": "y2w60nsqWZcQ"
      }
    },
    {
      "cell_type": "code",
      "source": [
        "# 범주형 데이터를 one-hot encoding으로 변환\n",
        "df_encoded = df.copy()\n",
        "\n",
        "# LabelEncoder 객체 생성\n",
        "label_encoder = LabelEncoder()\n",
        "\n",
        "# 제목(title)을 인코딩\n",
        "df_encoded['title'] = label_encoder.fit_transform(df['title'])\n",
        "\n",
        "# 더빙/자막(version)을 인코딩\n",
        "df_encoded['version'] = label_encoder.fit_transform(df['version'])\n",
        "\n",
        "# 대여/구매/무료(type)를 인코딩\n",
        "df_encoded['type'] = label_encoder.fit_transform(df['type'])\n",
        "\n",
        "# 감독(director)을 인코딩\n",
        "df_encoded['director'] = label_encoder.fit_transform(df['director'])\n",
        "\n",
        "# 배우(actor)를 인코딩\n",
        "df_encoded['actor'] = label_encoder.fit_transform(df['actor'])\n",
        "\n",
        "# 연령제한(age)을 인코딩\n",
        "df_encoded['age'] = label_encoder.fit_transform(df['age'])\n",
        "\n",
        "# 대여기간(period)을 인코딩\n",
        "df_encoded['period'] = label_encoder.fit_transform(df['period'])"
      ],
      "metadata": {
        "id": "j5mCJiKGD5gE"
      },
      "execution_count": 60,
      "outputs": []
    },
    {
      "cell_type": "code",
      "source": [
        "df_encoded.info()"
      ],
      "metadata": {
        "colab": {
          "base_uri": "https://localhost:8080/"
        },
        "id": "zI2qVLkNWYBu",
        "outputId": "d1167cf6-1e6e-469b-959b-7cc6b28f2a5a"
      },
      "execution_count": 42,
      "outputs": [
        {
          "output_type": "stream",
          "name": "stdout",
          "text": [
            "<class 'pandas.core.frame.DataFrame'>\n",
            "RangeIndex: 29185 entries, 0 to 29184\n",
            "Data columns (total 22 columns):\n",
            " #   Column        Non-Null Count  Dtype  \n",
            "---  ------        --------------  -----  \n",
            " 0   year          29185 non-null  int64  \n",
            " 1   version       29185 non-null  int64  \n",
            " 2   type          29185 non-null  int64  \n",
            " 3   director      29185 non-null  int64  \n",
            " 4   actor         29185 non-null  int64  \n",
            " 5   age           29185 non-null  int64  \n",
            " 6   runtime       29185 non-null  int64  \n",
            " 7   rating        29185 non-null  float64\n",
            " 8   like          29185 non-null  int64  \n",
            " 9   isDRM         29185 non-null  int64  \n",
            " 10  cost          29185 non-null  int64  \n",
            " 11  period        29185 non-null  int64  \n",
            " 12  is_action     29185 non-null  int64  \n",
            " 13  is_comedy     29185 non-null  int64  \n",
            " 14  is_drama      29185 non-null  int64  \n",
            " 15  is_melo       29185 non-null  int64  \n",
            " 16  is_horror     29185 non-null  int64  \n",
            " 17  is_fantasy    29185 non-null  int64  \n",
            " 18  is_animation  29185 non-null  int64  \n",
            " 19  is_DQ         29185 non-null  int64  \n",
            " 20  is_indie      29185 non-null  int64  \n",
            " 21  is_concert    29185 non-null  int64  \n",
            "dtypes: float64(1), int64(21)\n",
            "memory usage: 4.9 MB\n"
          ]
        }
      ]
    },
    {
      "cell_type": "code",
      "source": [
        "x = df_encoded.drop('rating', axis=1)\n",
        "y = df_encoded['rating']\n",
        "\n",
        "x_train, x_test, y_train, y_test = train_test_split(x,y, test_size=0.2, random_state=42)"
      ],
      "metadata": {
        "id": "w4BVesVZC-xc"
      },
      "execution_count": 61,
      "outputs": []
    },
    {
      "cell_type": "markdown",
      "source": [
        "## 모델 학습"
      ],
      "metadata": {
        "id": "WfEn6xV2ZFzm"
      }
    },
    {
      "cell_type": "markdown",
      "source": [
        "### 1. XGBoost"
      ],
      "metadata": {
        "id": "JKyxlhyFH-hs"
      }
    },
    {
      "cell_type": "code",
      "source": [
        "# XGBoost 모델 학습 및 예측\n",
        "xgb_model = xgb.XGBRegressor(objective='reg:squarederror', random_state=42)\n",
        "xgb_model.fit(x_train, y_train)\n",
        "y_pred_xgb = xgb_model.predict(x_test)"
      ],
      "metadata": {
        "id": "VD5INvSkDbMN"
      },
      "execution_count": null,
      "outputs": []
    },
    {
      "cell_type": "code",
      "source": [
        "# 여러 평가 지표 계산\n",
        "mse_xgb = mean_squared_error(y_test, y_pred_xgb)\n",
        "mae_xgb = mean_absolute_error(y_test, y_pred_xgb)\n",
        "r2_xgb = r2_score(y_test, y_pred_xgb)\n",
        "\n",
        "# 결과 출력\n",
        "print(f'Mean Squared Error (MSE): {mse_xgb:.4f}')\n",
        "print(f'Mean Absolute Error (MAE): {mae_xgb:.4f}')\n",
        "print(f'R² Score: {r2_xgb:.4f}')\n",
        "\n",
        "score_xgb = [mse_xgb, mae_xgb, r2_xgb]"
      ],
      "metadata": {
        "colab": {
          "base_uri": "https://localhost:8080/"
        },
        "id": "oeWK2GsCDpm1",
        "outputId": "127ba134-e2b5-4758-827d-755f5ab68aeb"
      },
      "execution_count": null,
      "outputs": [
        {
          "output_type": "stream",
          "name": "stdout",
          "text": [
            "Mean Squared Error (MSE): 4.7039\n",
            "Mean Absolute Error (MAE): 1.5184\n",
            "R² Score: 0.5650\n"
          ]
        }
      ]
    },
    {
      "cell_type": "markdown",
      "source": [
        "### 2. LightGBM"
      ],
      "metadata": {
        "id": "UnV56ZNxS2Hu"
      }
    },
    {
      "cell_type": "code",
      "source": [
        "# 모델 학습 및 예측\n",
        "lgb_model = lgb.LGBMRegressor(random_state=42)\n",
        "lgb_model.fit(x_train, y_train)\n",
        "y_pred_lgb = lgb_model.predict(x_test)"
      ],
      "metadata": {
        "colab": {
          "base_uri": "https://localhost:8080/"
        },
        "id": "_5RCluNAS01F",
        "outputId": "0bc4d7d1-ff05-4fe6-9e99-bfeed3c6db08"
      },
      "execution_count": null,
      "outputs": [
        {
          "output_type": "stream",
          "name": "stdout",
          "text": [
            "[LightGBM] [Info] Auto-choosing row-wise multi-threading, the overhead of testing was 0.004988 seconds.\n",
            "You can set `force_row_wise=true` to remove the overhead.\n",
            "And if memory is not enough, you can set `force_col_wise=true`.\n",
            "[LightGBM] [Info] Total Bins 865\n",
            "[LightGBM] [Info] Number of data points in the train set: 23348, number of used features: 19\n",
            "[LightGBM] [Info] Start training from score 5.744589\n"
          ]
        }
      ]
    },
    {
      "cell_type": "code",
      "source": [
        "# 여러 평가 지표 계산\n",
        "mse_lgb = mean_squared_error(y_test, y_pred_lgb)\n",
        "mae_lgb = mean_absolute_error(y_test, y_pred_lgb)\n",
        "r2_lgb = r2_score(y_test, y_pred_lgb)\n",
        "\n",
        "# 결과 출력\n",
        "print(f'Mean Squared Error (MSE): {mse_lgb:.4f}')\n",
        "print(f'Mean Absolute Error (MAE): {mae_lgb:.4f}')\n",
        "print(f'R² Score: {r2_lgb:.4f}')\n",
        "\n",
        "score_lgb = [mse_lgb, mae_lgb, r2_lgb]"
      ],
      "metadata": {
        "colab": {
          "base_uri": "https://localhost:8080/"
        },
        "id": "q1xviD6-TdEm",
        "outputId": "2a9973aa-230e-4105-bd1b-3fdca45e4c2b"
      },
      "execution_count": null,
      "outputs": [
        {
          "output_type": "stream",
          "name": "stdout",
          "text": [
            "Mean Squared Error (MSE): 5.2886\n",
            "Mean Absolute Error (MAE): 1.6606\n",
            "R² Score: 0.5110\n"
          ]
        }
      ]
    },
    {
      "cell_type": "markdown",
      "source": [
        "### 3. Random Forest"
      ],
      "metadata": {
        "id": "gkxjpvIeH6Uk"
      }
    },
    {
      "cell_type": "code",
      "source": [
        "# 랜덤 포레스트 모델 생성 및 훈련\n",
        "rf_regressor = RandomForestRegressor(n_estimators=100, random_state=42)\n",
        "rf_regressor.fit(x_train, y_train)\n",
        "\n",
        "# 테스트 데이터로 예측\n",
        "y_pred_rf = rf_regressor.predict(x_test)"
      ],
      "metadata": {
        "id": "2QDc7lE-HFV3"
      },
      "execution_count": null,
      "outputs": []
    },
    {
      "cell_type": "code",
      "source": [
        "# 여러 평가 지표 계산\n",
        "mse_rf = mean_squared_error(y_test, y_pred_rf)\n",
        "mae_rf = mean_absolute_error(y_test, y_pred_rf)\n",
        "r2_rf = r2_score(y_test, y_pred_rf)\n",
        "\n",
        "# 결과 출력\n",
        "print(f'Mean Squared Error (MSE): {mse_rf:.4f}')\n",
        "print(f'Mean Absolute Error (MAE): {mae_rf:.4f}')\n",
        "print(f'R² Score: {r2_rf:.4f}')\n",
        "\n",
        "score_rf = [mse_rf, mae_rf, r2_rf]"
      ],
      "metadata": {
        "colab": {
          "base_uri": "https://localhost:8080/"
        },
        "id": "-KzXdRr9H52P",
        "outputId": "55ebed5b-03bd-4196-f023-41984f9ffdb9"
      },
      "execution_count": null,
      "outputs": [
        {
          "output_type": "stream",
          "name": "stdout",
          "text": [
            "Mean Squared Error (MSE): 4.6902\n",
            "Mean Absolute Error (MAE): 1.4487\n",
            "R² Score: 0.5663\n"
          ]
        }
      ]
    },
    {
      "cell_type": "markdown",
      "source": [
        "## 평가 지표 확인"
      ],
      "metadata": {
        "id": "wr9pWSIwNcpE"
      }
    },
    {
      "cell_type": "code",
      "source": [
        "score_df = pd.DataFrame(data=[score_xgb, score_lgb, score_rf], index=['xgb', 'lgb', 'rf'], columns=['mse', 'mae', 'r2'])\n",
        "score_df"
      ],
      "metadata": {
        "colab": {
          "base_uri": "https://localhost:8080/",
          "height": 143
        },
        "id": "el9jQiVTKhVI",
        "outputId": "6143cf6d-d50a-4e64-b9ca-d41bf6f8eeec"
      },
      "execution_count": null,
      "outputs": [
        {
          "output_type": "execute_result",
          "data": {
            "text/plain": [
              "          mse       mae        r2\n",
              "xgb  5.091385  1.599611  0.529216\n",
              "lgb  5.288633  1.660579  0.510978\n",
              "rf   4.690183  1.448657  0.566314"
            ],
            "text/html": [
              "\n",
              "  <div id=\"df-f13e5ecf-3142-4078-b598-e4c47f36a36b\" class=\"colab-df-container\">\n",
              "    <div>\n",
              "<style scoped>\n",
              "    .dataframe tbody tr th:only-of-type {\n",
              "        vertical-align: middle;\n",
              "    }\n",
              "\n",
              "    .dataframe tbody tr th {\n",
              "        vertical-align: top;\n",
              "    }\n",
              "\n",
              "    .dataframe thead th {\n",
              "        text-align: right;\n",
              "    }\n",
              "</style>\n",
              "<table border=\"1\" class=\"dataframe\">\n",
              "  <thead>\n",
              "    <tr style=\"text-align: right;\">\n",
              "      <th></th>\n",
              "      <th>mse</th>\n",
              "      <th>mae</th>\n",
              "      <th>r2</th>\n",
              "    </tr>\n",
              "  </thead>\n",
              "  <tbody>\n",
              "    <tr>\n",
              "      <th>xgb</th>\n",
              "      <td>5.091385</td>\n",
              "      <td>1.599611</td>\n",
              "      <td>0.529216</td>\n",
              "    </tr>\n",
              "    <tr>\n",
              "      <th>lgb</th>\n",
              "      <td>5.288633</td>\n",
              "      <td>1.660579</td>\n",
              "      <td>0.510978</td>\n",
              "    </tr>\n",
              "    <tr>\n",
              "      <th>rf</th>\n",
              "      <td>4.690183</td>\n",
              "      <td>1.448657</td>\n",
              "      <td>0.566314</td>\n",
              "    </tr>\n",
              "  </tbody>\n",
              "</table>\n",
              "</div>\n",
              "    <div class=\"colab-df-buttons\">\n",
              "\n",
              "  <div class=\"colab-df-container\">\n",
              "    <button class=\"colab-df-convert\" onclick=\"convertToInteractive('df-f13e5ecf-3142-4078-b598-e4c47f36a36b')\"\n",
              "            title=\"Convert this dataframe to an interactive table.\"\n",
              "            style=\"display:none;\">\n",
              "\n",
              "  <svg xmlns=\"http://www.w3.org/2000/svg\" height=\"24px\" viewBox=\"0 -960 960 960\">\n",
              "    <path d=\"M120-120v-720h720v720H120Zm60-500h600v-160H180v160Zm220 220h160v-160H400v160Zm0 220h160v-160H400v160ZM180-400h160v-160H180v160Zm440 0h160v-160H620v160ZM180-180h160v-160H180v160Zm440 0h160v-160H620v160Z\"/>\n",
              "  </svg>\n",
              "    </button>\n",
              "\n",
              "  <style>\n",
              "    .colab-df-container {\n",
              "      display:flex;\n",
              "      gap: 12px;\n",
              "    }\n",
              "\n",
              "    .colab-df-convert {\n",
              "      background-color: #E8F0FE;\n",
              "      border: none;\n",
              "      border-radius: 50%;\n",
              "      cursor: pointer;\n",
              "      display: none;\n",
              "      fill: #1967D2;\n",
              "      height: 32px;\n",
              "      padding: 0 0 0 0;\n",
              "      width: 32px;\n",
              "    }\n",
              "\n",
              "    .colab-df-convert:hover {\n",
              "      background-color: #E2EBFA;\n",
              "      box-shadow: 0px 1px 2px rgba(60, 64, 67, 0.3), 0px 1px 3px 1px rgba(60, 64, 67, 0.15);\n",
              "      fill: #174EA6;\n",
              "    }\n",
              "\n",
              "    .colab-df-buttons div {\n",
              "      margin-bottom: 4px;\n",
              "    }\n",
              "\n",
              "    [theme=dark] .colab-df-convert {\n",
              "      background-color: #3B4455;\n",
              "      fill: #D2E3FC;\n",
              "    }\n",
              "\n",
              "    [theme=dark] .colab-df-convert:hover {\n",
              "      background-color: #434B5C;\n",
              "      box-shadow: 0px 1px 3px 1px rgba(0, 0, 0, 0.15);\n",
              "      filter: drop-shadow(0px 1px 2px rgba(0, 0, 0, 0.3));\n",
              "      fill: #FFFFFF;\n",
              "    }\n",
              "  </style>\n",
              "\n",
              "    <script>\n",
              "      const buttonEl =\n",
              "        document.querySelector('#df-f13e5ecf-3142-4078-b598-e4c47f36a36b button.colab-df-convert');\n",
              "      buttonEl.style.display =\n",
              "        google.colab.kernel.accessAllowed ? 'block' : 'none';\n",
              "\n",
              "      async function convertToInteractive(key) {\n",
              "        const element = document.querySelector('#df-f13e5ecf-3142-4078-b598-e4c47f36a36b');\n",
              "        const dataTable =\n",
              "          await google.colab.kernel.invokeFunction('convertToInteractive',\n",
              "                                                    [key], {});\n",
              "        if (!dataTable) return;\n",
              "\n",
              "        const docLinkHtml = 'Like what you see? Visit the ' +\n",
              "          '<a target=\"_blank\" href=https://colab.research.google.com/notebooks/data_table.ipynb>data table notebook</a>'\n",
              "          + ' to learn more about interactive tables.';\n",
              "        element.innerHTML = '';\n",
              "        dataTable['output_type'] = 'display_data';\n",
              "        await google.colab.output.renderOutput(dataTable, element);\n",
              "        const docLink = document.createElement('div');\n",
              "        docLink.innerHTML = docLinkHtml;\n",
              "        element.appendChild(docLink);\n",
              "      }\n",
              "    </script>\n",
              "  </div>\n",
              "\n",
              "\n",
              "<div id=\"df-a4211bee-870a-4e28-9385-a1c80be9771e\">\n",
              "  <button class=\"colab-df-quickchart\" onclick=\"quickchart('df-a4211bee-870a-4e28-9385-a1c80be9771e')\"\n",
              "            title=\"Suggest charts\"\n",
              "            style=\"display:none;\">\n",
              "\n",
              "<svg xmlns=\"http://www.w3.org/2000/svg\" height=\"24px\"viewBox=\"0 0 24 24\"\n",
              "     width=\"24px\">\n",
              "    <g>\n",
              "        <path d=\"M19 3H5c-1.1 0-2 .9-2 2v14c0 1.1.9 2 2 2h14c1.1 0 2-.9 2-2V5c0-1.1-.9-2-2-2zM9 17H7v-7h2v7zm4 0h-2V7h2v10zm4 0h-2v-4h2v4z\"/>\n",
              "    </g>\n",
              "</svg>\n",
              "  </button>\n",
              "\n",
              "<style>\n",
              "  .colab-df-quickchart {\n",
              "      --bg-color: #E8F0FE;\n",
              "      --fill-color: #1967D2;\n",
              "      --hover-bg-color: #E2EBFA;\n",
              "      --hover-fill-color: #174EA6;\n",
              "      --disabled-fill-color: #AAA;\n",
              "      --disabled-bg-color: #DDD;\n",
              "  }\n",
              "\n",
              "  [theme=dark] .colab-df-quickchart {\n",
              "      --bg-color: #3B4455;\n",
              "      --fill-color: #D2E3FC;\n",
              "      --hover-bg-color: #434B5C;\n",
              "      --hover-fill-color: #FFFFFF;\n",
              "      --disabled-bg-color: #3B4455;\n",
              "      --disabled-fill-color: #666;\n",
              "  }\n",
              "\n",
              "  .colab-df-quickchart {\n",
              "    background-color: var(--bg-color);\n",
              "    border: none;\n",
              "    border-radius: 50%;\n",
              "    cursor: pointer;\n",
              "    display: none;\n",
              "    fill: var(--fill-color);\n",
              "    height: 32px;\n",
              "    padding: 0;\n",
              "    width: 32px;\n",
              "  }\n",
              "\n",
              "  .colab-df-quickchart:hover {\n",
              "    background-color: var(--hover-bg-color);\n",
              "    box-shadow: 0 1px 2px rgba(60, 64, 67, 0.3), 0 1px 3px 1px rgba(60, 64, 67, 0.15);\n",
              "    fill: var(--button-hover-fill-color);\n",
              "  }\n",
              "\n",
              "  .colab-df-quickchart-complete:disabled,\n",
              "  .colab-df-quickchart-complete:disabled:hover {\n",
              "    background-color: var(--disabled-bg-color);\n",
              "    fill: var(--disabled-fill-color);\n",
              "    box-shadow: none;\n",
              "  }\n",
              "\n",
              "  .colab-df-spinner {\n",
              "    border: 2px solid var(--fill-color);\n",
              "    border-color: transparent;\n",
              "    border-bottom-color: var(--fill-color);\n",
              "    animation:\n",
              "      spin 1s steps(1) infinite;\n",
              "  }\n",
              "\n",
              "  @keyframes spin {\n",
              "    0% {\n",
              "      border-color: transparent;\n",
              "      border-bottom-color: var(--fill-color);\n",
              "      border-left-color: var(--fill-color);\n",
              "    }\n",
              "    20% {\n",
              "      border-color: transparent;\n",
              "      border-left-color: var(--fill-color);\n",
              "      border-top-color: var(--fill-color);\n",
              "    }\n",
              "    30% {\n",
              "      border-color: transparent;\n",
              "      border-left-color: var(--fill-color);\n",
              "      border-top-color: var(--fill-color);\n",
              "      border-right-color: var(--fill-color);\n",
              "    }\n",
              "    40% {\n",
              "      border-color: transparent;\n",
              "      border-right-color: var(--fill-color);\n",
              "      border-top-color: var(--fill-color);\n",
              "    }\n",
              "    60% {\n",
              "      border-color: transparent;\n",
              "      border-right-color: var(--fill-color);\n",
              "    }\n",
              "    80% {\n",
              "      border-color: transparent;\n",
              "      border-right-color: var(--fill-color);\n",
              "      border-bottom-color: var(--fill-color);\n",
              "    }\n",
              "    90% {\n",
              "      border-color: transparent;\n",
              "      border-bottom-color: var(--fill-color);\n",
              "    }\n",
              "  }\n",
              "</style>\n",
              "\n",
              "  <script>\n",
              "    async function quickchart(key) {\n",
              "      const quickchartButtonEl =\n",
              "        document.querySelector('#' + key + ' button');\n",
              "      quickchartButtonEl.disabled = true;  // To prevent multiple clicks.\n",
              "      quickchartButtonEl.classList.add('colab-df-spinner');\n",
              "      try {\n",
              "        const charts = await google.colab.kernel.invokeFunction(\n",
              "            'suggestCharts', [key], {});\n",
              "      } catch (error) {\n",
              "        console.error('Error during call to suggestCharts:', error);\n",
              "      }\n",
              "      quickchartButtonEl.classList.remove('colab-df-spinner');\n",
              "      quickchartButtonEl.classList.add('colab-df-quickchart-complete');\n",
              "    }\n",
              "    (() => {\n",
              "      let quickchartButtonEl =\n",
              "        document.querySelector('#df-a4211bee-870a-4e28-9385-a1c80be9771e button');\n",
              "      quickchartButtonEl.style.display =\n",
              "        google.colab.kernel.accessAllowed ? 'block' : 'none';\n",
              "    })();\n",
              "  </script>\n",
              "</div>\n",
              "\n",
              "  <div id=\"id_39c1fa81-77b6-4834-9b31-5f83bda64556\">\n",
              "    <style>\n",
              "      .colab-df-generate {\n",
              "        background-color: #E8F0FE;\n",
              "        border: none;\n",
              "        border-radius: 50%;\n",
              "        cursor: pointer;\n",
              "        display: none;\n",
              "        fill: #1967D2;\n",
              "        height: 32px;\n",
              "        padding: 0 0 0 0;\n",
              "        width: 32px;\n",
              "      }\n",
              "\n",
              "      .colab-df-generate:hover {\n",
              "        background-color: #E2EBFA;\n",
              "        box-shadow: 0px 1px 2px rgba(60, 64, 67, 0.3), 0px 1px 3px 1px rgba(60, 64, 67, 0.15);\n",
              "        fill: #174EA6;\n",
              "      }\n",
              "\n",
              "      [theme=dark] .colab-df-generate {\n",
              "        background-color: #3B4455;\n",
              "        fill: #D2E3FC;\n",
              "      }\n",
              "\n",
              "      [theme=dark] .colab-df-generate:hover {\n",
              "        background-color: #434B5C;\n",
              "        box-shadow: 0px 1px 3px 1px rgba(0, 0, 0, 0.15);\n",
              "        filter: drop-shadow(0px 1px 2px rgba(0, 0, 0, 0.3));\n",
              "        fill: #FFFFFF;\n",
              "      }\n",
              "    </style>\n",
              "    <button class=\"colab-df-generate\" onclick=\"generateWithVariable('score_df')\"\n",
              "            title=\"Generate code using this dataframe.\"\n",
              "            style=\"display:none;\">\n",
              "\n",
              "  <svg xmlns=\"http://www.w3.org/2000/svg\" height=\"24px\"viewBox=\"0 0 24 24\"\n",
              "       width=\"24px\">\n",
              "    <path d=\"M7,19H8.4L18.45,9,17,7.55,7,17.6ZM5,21V16.75L18.45,3.32a2,2,0,0,1,2.83,0l1.4,1.43a1.91,1.91,0,0,1,.58,1.4,1.91,1.91,0,0,1-.58,1.4L9.25,21ZM18.45,9,17,7.55Zm-12,3A5.31,5.31,0,0,0,4.9,8.1,5.31,5.31,0,0,0,1,6.5,5.31,5.31,0,0,0,4.9,4.9,5.31,5.31,0,0,0,6.5,1,5.31,5.31,0,0,0,8.1,4.9,5.31,5.31,0,0,0,12,6.5,5.46,5.46,0,0,0,6.5,12Z\"/>\n",
              "  </svg>\n",
              "    </button>\n",
              "    <script>\n",
              "      (() => {\n",
              "      const buttonEl =\n",
              "        document.querySelector('#id_39c1fa81-77b6-4834-9b31-5f83bda64556 button.colab-df-generate');\n",
              "      buttonEl.style.display =\n",
              "        google.colab.kernel.accessAllowed ? 'block' : 'none';\n",
              "\n",
              "      buttonEl.onclick = () => {\n",
              "        google.colab.notebook.generateWithVariable('score_df');\n",
              "      }\n",
              "      })();\n",
              "    </script>\n",
              "  </div>\n",
              "\n",
              "    </div>\n",
              "  </div>\n"
            ],
            "application/vnd.google.colaboratory.intrinsic+json": {
              "type": "dataframe",
              "variable_name": "score_df",
              "summary": "{\n  \"name\": \"score_df\",\n  \"rows\": 3,\n  \"fields\": [\n    {\n      \"column\": \"mse\",\n      \"properties\": {\n        \"dtype\": \"number\",\n        \"std\": 0.3049625918349583,\n        \"min\": 4.6901827304021735,\n        \"max\": 5.288633131432906,\n        \"num_unique_values\": 3,\n        \"samples\": [\n          5.0913853077503575,\n          5.288633131432906,\n          4.6901827304021735\n        ],\n        \"semantic_type\": \"\",\n        \"description\": \"\"\n      }\n    },\n    {\n      \"column\": \"mae\",\n      \"properties\": {\n        \"dtype\": \"number\",\n        \"std\": 0.10909895376306303,\n        \"min\": 1.448656775740963,\n        \"max\": 1.6605793564611138,\n        \"num_unique_values\": 3,\n        \"samples\": [\n          1.5996109541197938,\n          1.6605793564611138,\n          1.448656775740963\n        ],\n        \"semantic_type\": \"\",\n        \"description\": \"\"\n      }\n    },\n    {\n      \"column\": \"r2\",\n      \"properties\": {\n        \"dtype\": \"number\",\n        \"std\": 0.028198881662459725,\n        \"min\": 0.5109775958680564,\n        \"max\": 0.5663143240155206,\n        \"num_unique_values\": 3,\n        \"samples\": [\n          0.5292164493770535,\n          0.5109775958680564,\n          0.5663143240155206\n        ],\n        \"semantic_type\": \"\",\n        \"description\": \"\"\n      }\n    }\n  ]\n}"
            }
          },
          "metadata": {},
          "execution_count": 63
        }
      ]
    },
    {
      "cell_type": "markdown",
      "source": [
        "## 파라미터 조정 및 재학습"
      ],
      "metadata": {
        "id": "TJVcuLB4Zj4O"
      }
    },
    {
      "cell_type": "code",
      "source": [
        "param_grid = {\n",
        "    'n_estimators': [100, 200, 300],  # 결정 트리 개수\n",
        "    'max_depth': [None, 10, 20, 30],  # 트리의 최대 깊이\n",
        "    'min_samples_split': [2, 5, 10],  # 내부 노드를 분할하는 최소 샘플 수\n",
        "    'min_samples_leaf': [1, 2, 4]  # 리프 노드에 필요한 최소 샘플 수\n",
        "}\n",
        "\n",
        "grid_search = GridSearchCV(estimator=rf_regressor, param_grid=param_grid, cv=5, scoring='neg_mean_squared_error', verbose=1, n_jobs=-1)\n",
        "grid_search.fit(x_train, y_train)"
      ],
      "metadata": {
        "colab": {
          "base_uri": "https://localhost:8080/",
          "height": 269
        },
        "collapsed": true,
        "id": "PKHNeaeqZmMH",
        "outputId": "2d284181-231b-49b7-988c-dfd14c648c87"
      },
      "execution_count": null,
      "outputs": [
        {
          "output_type": "stream",
          "name": "stdout",
          "text": [
            "Fitting 5 folds for each of 108 candidates, totalling 540 fits\n"
          ]
        },
        {
          "output_type": "execute_result",
          "data": {
            "text/plain": [
              "GridSearchCV(cv=5, estimator=RandomForestRegressor(random_state=42), n_jobs=-1,\n",
              "             param_grid={'max_depth': [None, 10, 20, 30],\n",
              "                         'min_samples_leaf': [1, 2, 4],\n",
              "                         'min_samples_split': [2, 5, 10],\n",
              "                         'n_estimators': [100, 200, 300]},\n",
              "             scoring='neg_mean_squared_error', verbose=1)"
            ],
            "text/html": [
              "<style>#sk-container-id-2 {color: black;background-color: white;}#sk-container-id-2 pre{padding: 0;}#sk-container-id-2 div.sk-toggleable {background-color: white;}#sk-container-id-2 label.sk-toggleable__label {cursor: pointer;display: block;width: 100%;margin-bottom: 0;padding: 0.3em;box-sizing: border-box;text-align: center;}#sk-container-id-2 label.sk-toggleable__label-arrow:before {content: \"▸\";float: left;margin-right: 0.25em;color: #696969;}#sk-container-id-2 label.sk-toggleable__label-arrow:hover:before {color: black;}#sk-container-id-2 div.sk-estimator:hover label.sk-toggleable__label-arrow:before {color: black;}#sk-container-id-2 div.sk-toggleable__content {max-height: 0;max-width: 0;overflow: hidden;text-align: left;background-color: #f0f8ff;}#sk-container-id-2 div.sk-toggleable__content pre {margin: 0.2em;color: black;border-radius: 0.25em;background-color: #f0f8ff;}#sk-container-id-2 input.sk-toggleable__control:checked~div.sk-toggleable__content {max-height: 200px;max-width: 100%;overflow: auto;}#sk-container-id-2 input.sk-toggleable__control:checked~label.sk-toggleable__label-arrow:before {content: \"▾\";}#sk-container-id-2 div.sk-estimator input.sk-toggleable__control:checked~label.sk-toggleable__label {background-color: #d4ebff;}#sk-container-id-2 div.sk-label input.sk-toggleable__control:checked~label.sk-toggleable__label {background-color: #d4ebff;}#sk-container-id-2 input.sk-hidden--visually {border: 0;clip: rect(1px 1px 1px 1px);clip: rect(1px, 1px, 1px, 1px);height: 1px;margin: -1px;overflow: hidden;padding: 0;position: absolute;width: 1px;}#sk-container-id-2 div.sk-estimator {font-family: monospace;background-color: #f0f8ff;border: 1px dotted black;border-radius: 0.25em;box-sizing: border-box;margin-bottom: 0.5em;}#sk-container-id-2 div.sk-estimator:hover {background-color: #d4ebff;}#sk-container-id-2 div.sk-parallel-item::after {content: \"\";width: 100%;border-bottom: 1px solid gray;flex-grow: 1;}#sk-container-id-2 div.sk-label:hover label.sk-toggleable__label {background-color: #d4ebff;}#sk-container-id-2 div.sk-serial::before {content: \"\";position: absolute;border-left: 1px solid gray;box-sizing: border-box;top: 0;bottom: 0;left: 50%;z-index: 0;}#sk-container-id-2 div.sk-serial {display: flex;flex-direction: column;align-items: center;background-color: white;padding-right: 0.2em;padding-left: 0.2em;position: relative;}#sk-container-id-2 div.sk-item {position: relative;z-index: 1;}#sk-container-id-2 div.sk-parallel {display: flex;align-items: stretch;justify-content: center;background-color: white;position: relative;}#sk-container-id-2 div.sk-item::before, #sk-container-id-2 div.sk-parallel-item::before {content: \"\";position: absolute;border-left: 1px solid gray;box-sizing: border-box;top: 0;bottom: 0;left: 50%;z-index: -1;}#sk-container-id-2 div.sk-parallel-item {display: flex;flex-direction: column;z-index: 1;position: relative;background-color: white;}#sk-container-id-2 div.sk-parallel-item:first-child::after {align-self: flex-end;width: 50%;}#sk-container-id-2 div.sk-parallel-item:last-child::after {align-self: flex-start;width: 50%;}#sk-container-id-2 div.sk-parallel-item:only-child::after {width: 0;}#sk-container-id-2 div.sk-dashed-wrapped {border: 1px dashed gray;margin: 0 0.4em 0.5em 0.4em;box-sizing: border-box;padding-bottom: 0.4em;background-color: white;}#sk-container-id-2 div.sk-label label {font-family: monospace;font-weight: bold;display: inline-block;line-height: 1.2em;}#sk-container-id-2 div.sk-label-container {text-align: center;}#sk-container-id-2 div.sk-container {/* jupyter's `normalize.less` sets `[hidden] { display: none; }` but bootstrap.min.css set `[hidden] { display: none !important; }` so we also need the `!important` here to be able to override the default hidden behavior on the sphinx rendered scikit-learn.org. See: https://github.com/scikit-learn/scikit-learn/issues/21755 */display: inline-block !important;position: relative;}#sk-container-id-2 div.sk-text-repr-fallback {display: none;}</style><div id=\"sk-container-id-2\" class=\"sk-top-container\"><div class=\"sk-text-repr-fallback\"><pre>GridSearchCV(cv=5, estimator=RandomForestRegressor(random_state=42), n_jobs=-1,\n",
              "             param_grid={&#x27;max_depth&#x27;: [None, 10, 20, 30],\n",
              "                         &#x27;min_samples_leaf&#x27;: [1, 2, 4],\n",
              "                         &#x27;min_samples_split&#x27;: [2, 5, 10],\n",
              "                         &#x27;n_estimators&#x27;: [100, 200, 300]},\n",
              "             scoring=&#x27;neg_mean_squared_error&#x27;, verbose=1)</pre><b>In a Jupyter environment, please rerun this cell to show the HTML representation or trust the notebook. <br />On GitHub, the HTML representation is unable to render, please try loading this page with nbviewer.org.</b></div><div class=\"sk-container\" hidden><div class=\"sk-item sk-dashed-wrapped\"><div class=\"sk-label-container\"><div class=\"sk-label sk-toggleable\"><input class=\"sk-toggleable__control sk-hidden--visually\" id=\"sk-estimator-id-4\" type=\"checkbox\" ><label for=\"sk-estimator-id-4\" class=\"sk-toggleable__label sk-toggleable__label-arrow\">GridSearchCV</label><div class=\"sk-toggleable__content\"><pre>GridSearchCV(cv=5, estimator=RandomForestRegressor(random_state=42), n_jobs=-1,\n",
              "             param_grid={&#x27;max_depth&#x27;: [None, 10, 20, 30],\n",
              "                         &#x27;min_samples_leaf&#x27;: [1, 2, 4],\n",
              "                         &#x27;min_samples_split&#x27;: [2, 5, 10],\n",
              "                         &#x27;n_estimators&#x27;: [100, 200, 300]},\n",
              "             scoring=&#x27;neg_mean_squared_error&#x27;, verbose=1)</pre></div></div></div><div class=\"sk-parallel\"><div class=\"sk-parallel-item\"><div class=\"sk-item\"><div class=\"sk-label-container\"><div class=\"sk-label sk-toggleable\"><input class=\"sk-toggleable__control sk-hidden--visually\" id=\"sk-estimator-id-5\" type=\"checkbox\" ><label for=\"sk-estimator-id-5\" class=\"sk-toggleable__label sk-toggleable__label-arrow\">estimator: RandomForestRegressor</label><div class=\"sk-toggleable__content\"><pre>RandomForestRegressor(random_state=42)</pre></div></div></div><div class=\"sk-serial\"><div class=\"sk-item\"><div class=\"sk-estimator sk-toggleable\"><input class=\"sk-toggleable__control sk-hidden--visually\" id=\"sk-estimator-id-6\" type=\"checkbox\" ><label for=\"sk-estimator-id-6\" class=\"sk-toggleable__label sk-toggleable__label-arrow\">RandomForestRegressor</label><div class=\"sk-toggleable__content\"><pre>RandomForestRegressor(random_state=42)</pre></div></div></div></div></div></div></div></div></div></div>"
            ]
          },
          "metadata": {},
          "execution_count": 64
        }
      ]
    },
    {
      "cell_type": "code",
      "source": [
        "# 최적의 파라미터\n",
        "print(\"Best parameters found: \", grid_search.best_params_)"
      ],
      "metadata": {
        "colab": {
          "base_uri": "https://localhost:8080/"
        },
        "id": "mOvh76uJZq-X",
        "outputId": "7ca1eb93-adf7-4415-c1f8-7567a673b5b9"
      },
      "execution_count": null,
      "outputs": [
        {
          "output_type": "stream",
          "name": "stdout",
          "text": [
            "Best parameters found:  {'max_depth': 30, 'min_samples_leaf': 1, 'min_samples_split': 2, 'n_estimators': 300}\n"
          ]
        }
      ]
    },
    {
      "cell_type": "code",
      "source": [
        "# 테스트 데이터로 모델 평가\n",
        "y_pred_be = grid_search.best_estimator_.predict(x_test)\n",
        "mse_be = mean_squared_error(y_test, y_pred_be)\n",
        "mae_be = mean_absolute_error(y_test, y_pred_be)\n",
        "r2_be = r2_score(y_test, y_pred_be)\n",
        "\n",
        "print(\"\\nTest set evaluation:\")\n",
        "print(\"MSE: {:.4f}\".format(mse_be))\n",
        "print(\"MAE: {:.4f}\".format(mae_be))\n",
        "print(\"R² Score: {:.4f}\".format(r2_be))"
      ],
      "metadata": {
        "colab": {
          "base_uri": "https://localhost:8080/"
        },
        "id": "WyLU8rOvNBKI",
        "outputId": "9ce056e1-79c1-4687-e662-f5071e316d7a"
      },
      "execution_count": null,
      "outputs": [
        {
          "output_type": "stream",
          "name": "stdout",
          "text": [
            "\n",
            "Test set evaluation:\n",
            "MSE: 4.6582\n",
            "MAE: 1.4458\n",
            "R² Score: 0.5693\n"
          ]
        }
      ]
    },
    {
      "cell_type": "markdown",
      "source": [
        "## 모델 재학습 및 평가"
      ],
      "metadata": {
        "id": "W7sFmUy47qP7"
      }
    },
    {
      "cell_type": "code",
      "source": [
        "# 모델 생성 및 훈련\n",
        "rf_regressor = RandomForestRegressor(random_state=42, max_depth=30, min_samples_leaf=1, min_samples_split=2, n_estimators=300)\n",
        "rf_regressor.fit(x_train, y_train)\n",
        "\n",
        "# 테스트 데이터로 예측\n",
        "y_pred_rf = rf_regressor.predict(x_test)"
      ],
      "metadata": {
        "id": "p4hTzAAu2eCz"
      },
      "execution_count": 62,
      "outputs": []
    },
    {
      "cell_type": "code",
      "source": [
        "# 여러 평가 지표 계산\n",
        "mse_rf = mean_squared_error(y_test, y_pred_rf)\n",
        "mae_rf = mean_absolute_error(y_test, y_pred_rf)\n",
        "r2_rf = r2_score(y_test, y_pred_rf)\n",
        "\n",
        "# 결과 출력\n",
        "print(f'Mean Squared Error (MSE): {mse_rf:.4f}')\n",
        "print(f'Mean Absolute Error (MAE): {mae_rf:.4f}')\n",
        "print(f'R² Score: {r2_rf:.4f}')"
      ],
      "metadata": {
        "colab": {
          "base_uri": "https://localhost:8080/"
        },
        "id": "NdAe-lZS8HlP",
        "outputId": "ed78c6bc-f4c8-4252-88db-4d01ccc34665"
      },
      "execution_count": 63,
      "outputs": [
        {
          "output_type": "stream",
          "name": "stdout",
          "text": [
            "Mean Squared Error (MSE): 4.5644\n",
            "Mean Absolute Error (MAE): 1.4767\n",
            "R² Score: 0.5779\n"
          ]
        }
      ]
    },
    {
      "cell_type": "markdown",
      "source": [
        "## 피처 중요도 추출"
      ],
      "metadata": {
        "id": "eJVhd14eKxVv"
      }
    },
    {
      "cell_type": "code",
      "source": [
        "# 피처 중요도 추출\n",
        "feature_importances = rf_regressor.feature_importances_\n",
        "\n",
        "# 피처 중요도를 데이터프레임으로 변환\n",
        "feature_importances_df = pd.DataFrame({\n",
        "    'feature': x.columns,\n",
        "    'importance': feature_importances\n",
        "})\n",
        "\n",
        "# 중요도 순으로 정렬\n",
        "feature_importances_df = feature_importances_df.sort_values(by='importance', ascending=False)"
      ],
      "metadata": {
        "id": "E3WR_9ZH8umD"
      },
      "execution_count": 64,
      "outputs": []
    },
    {
      "cell_type": "code",
      "source": [
        "# 색상 설정\n",
        "colors = plt.cm.viridis(np.linspace(0, 1, len(feature_importances_df)))\n",
        "\n",
        "# 피처 중요도 시각화\n",
        "plt.figure(figsize=(10, 6))\n",
        "plt.barh(feature_importances_df['feature'], feature_importances_df['importance'], color=colors)\n",
        "plt.xlabel('Importance')\n",
        "plt.ylabel('Feature')\n",
        "plt.title('Feature Importances in RandomForestRegressor')\n",
        "plt.gca().invert_yaxis()\n",
        "plt.show()"
      ],
      "metadata": {
        "colab": {
          "base_uri": "https://localhost:8080/",
          "height": 564
        },
        "id": "ZlKZCHQLK14X",
        "outputId": "7993799f-cc4c-4ef2-d8de-a77b907db0c3"
      },
      "execution_count": 65,
      "outputs": [
        {
          "output_type": "display_data",
          "data": {
            "text/plain": [
              "<Figure size 1000x600 with 1 Axes>"
            ],
            "image/png": "[encoded data removed]"
          },
          "metadata": {}
        }
      ]
    },
    {
      "cell_type": "code",
      "source": [],
      "metadata": {
        "id": "dcI_uqFYNRj5"
      },
      "execution_count": null,
      "outputs": []
    }
  ]
}