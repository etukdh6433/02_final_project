{
 "cells": [
  {
   "cell_type": "code",
   "execution_count": 1,
   "id": "9329cd71-c48e-4bef-8e10-73069715e0ce",
   "metadata": {},
   "outputs": [],
   "source": [
    "!pip install -q pyperclip\n",
    "!pip install -q webdriver-manager\n",
    "!pip install -q chromedriver-autoinstaller"
   ]
  },
  {
   "cell_type": "code",
   "execution_count": 11,
   "id": "64dd9620-a4e5-4469-a5e0-3853c3c6cc95",
   "metadata": {},
   "outputs": [],
   "source": [
    "from selenium import webdriver\n",
    "from selenium.webdriver.support.ui import WebDriverWait\n",
    "from selenium.webdriver.common.by import By\n",
    "from selenium.webdriver.common.action_chains import ActionChains\n",
    "from selenium.webdriver.common.keys import Keys\n",
    "\n",
    "import pyperclip\n",
    "import time\n",
    "import csv\n",
    "import pandas as pd\n",
    "\n",
    "from webdriver_manager.chrome import ChromeDriverManager\n",
    "import chromedriver_autoinstaller  # setup chrome options"
   ]
  },
  {
   "cell_type": "code",
   "execution_count": 3,
   "id": "7bf95a3c-fd4f-4658-90f8-ea3bca938a94",
   "metadata": {},
   "outputs": [
    {
     "data": {
      "text/plain": [
       "'C:\\\\Users\\\\etukd\\\\anaconda3\\\\Lib\\\\site-packages\\\\chromedriver_autoinstaller\\\\125\\\\chromedriver.exe'"
      ]
     },
     "execution_count": 3,
     "metadata": {},
     "output_type": "execute_result"
    }
   ],
   "source": [
    "options = webdriver.ChromeOptions()\n",
    "options.add_argument('--no-sandbox')\n",
    "options.add_argument('--disable-dev-shm-usage')  # set path to chromedriver as per your configuration\n",
    "options.add_argument('--disable-gpu')\n",
    "options.add_argument('lang=ko_KR') # 한국어\n",
    "\n",
    "chromedriver_autoinstaller.install()  # set the target URL"
   ]
  },
  {
   "cell_type": "code",
   "execution_count": 25,
   "id": "cbcd60d2-7ff9-4a50-843f-30a712c65aa4",
   "metadata": {},
   "outputs": [],
   "source": [
    "# 영화 데이터 크롤링\n",
    "comments = {\n",
    "    'date': [],\n",
    "    'comment': [],\n",
    "    'recomm': [],\n",
    "    'unrecomm': []\n",
    "}"
   ]
  },
  {
   "cell_type": "code",
   "execution_count": 26,
   "id": "e18f3a0b-5cc1-4b7b-8c25-505bd91fc579",
   "metadata": {},
   "outputs": [],
   "source": [
    "base_url = \"https://serieson.naver.com/v3/movie/products?tag=&sortType=POPULARITY_DESC&price=all\" # 드라마\n",
    "genre = 'comments'"
   ]
  },
  {
   "cell_type": "code",
   "execution_count": 39,
   "id": "61a53af5-f206-4253-8675-a960b2e2de1c",
   "metadata": {},
   "outputs": [],
   "source": [
    "driver = webdriver.Chrome(options=options)\n",
    "driver.get(base_url)\n",
    "\n",
    "time.sleep(3)\n",
    "\n",
    "ID = 'etukdh6433' #본인ID\n",
    "PW = 'tuticus643#' #본인PW\n",
    "\n",
    "try:\n",
    "    login_btn = driver.find_element(By.CSS_SELECTOR, '#gnb_login_button')\n",
    "    login_btn.click()\n",
    "    \n",
    "    #driver.get(\"https://nid.naver.com/nidlogin.login\")\n",
    "    time.sleep(3)\n",
    "    \n",
    "    id = driver.find_element(By.CSS_SELECTOR, \"#id\")\n",
    "    id.click()\n",
    "    pyperclip.copy(ID)\n",
    "    actions = ActionChains(driver)\n",
    "    actions.key_down(Keys.CONTROL).send_keys('v').key_up(Keys.CONTROL).perform()\n",
    "    time.sleep(1)\n",
    "    # id.send_keys(ID)\n",
    "    \n",
    "    pw = driver.find_element(By.CSS_SELECTOR, \"#pw\")\n",
    "    pw.click()\n",
    "    pyperclip.copy(PW)\n",
    "    actions = ActionChains(driver)\n",
    "    actions.key_down(Keys.CONTROL).send_keys('v').key_up(Keys.CONTROL).perform()\n",
    "    time.sleep(1)\n",
    "    # pw.send_keys(PW)\n",
    "    \n",
    "    btn_login = driver.find_element(By.CSS_SELECTOR, \"#log\\.login\")\n",
    "    btn_login.click()\n",
    "    \n",
    "except Exception as e:\n",
    "    print(f'Login Error Occurred: {e}')\n",
    "\n",
    "finally:\n",
    "    time.sleep(5)"
   ]
  },
  {
   "cell_type": "code",
   "execution_count": 40,
   "id": "2762432d-0af1-401e-93c6-37c52bfaf089",
   "metadata": {},
   "outputs": [],
   "source": [
    "# 더보기 클릭 (default = 1)\n",
    "cnt_more = 61\n",
    "for _ in range(1, cnt_more):\n",
    "    try:\n",
    "        more_button = driver.find_element(By.CSS_SELECTOR, 'button.ViewMoreButton_view_more_button__eGoJu')\n",
    "        more_button.click()\n",
    "        time.sleep(2)\n",
    "    except:\n",
    "        break"
   ]
  },
  {
   "cell_type": "code",
   "execution_count": 41,
   "id": "8e56c7af-2ba8-463d-85b4-2cbc72b8591a",
   "metadata": {},
   "outputs": [
    {
     "name": "stdout",
     "output_type": "stream",
     "text": [
      "1830\n"
     ]
    }
   ],
   "source": [
    "# 영화 갯수 => 반복문 실행 횟수\n",
    "cnt_movie = cnt_more * 30 + 1\n",
    "\n",
    "try:\n",
    "    for i in range(931, cnt_movie):\n",
    "        movie = driver.find_element(By.CSS_SELECTOR, f'#content > div.ListPage_category_wrap__L1R0q > ul > li:nth-child({i})')\n",
    "        # 영화 세부 페이지로 이동\n",
    "        movie.click()\n",
    "        time.sleep(2)\n",
    "\n",
    "        try:\n",
    "            cb_btn = driver.find_element(By.CLASS_NAME, 'u_cbox_cleanbot_setbutton')\n",
    "            cb_btn.click()\n",
    "\n",
    "            cleanbot = driver.find_element(By.ID, 'cleanbot_dialog_checkbox_cbox_module').get_attribute('class')\n",
    "            if cleanbot == 'u_cbox_layer_cleanbot2_checkbox is_checked':\n",
    "                checkbox = driver.find_element(By.CLASS_NAME, 'u_cbox_layer_cleanbot2_checkwrap')\n",
    "                checkbox.click()\n",
    "            \n",
    "            apply = driver.find_element(By.CLASS_NAME, 'u_cbox_layer_cleanbot2_extrabtn')\n",
    "            apply.click()\n",
    "            time.sleep(0.5)\n",
    "        except:\n",
    "            continue\n",
    "\n",
    "        try:\n",
    "            while True:\n",
    "                try:\n",
    "                    cbox_btn_more = driver.find_element(By.CSS_SELECTOR, 'a.u_cbox_btn_more')\n",
    "                    cbox_btn_more.click()\n",
    "                    time.sleep(0.5)\n",
    "                except:\n",
    "                    break\n",
    "        except:\n",
    "            continue\n",
    "\n",
    "        com_list = driver.find_elements(By.XPATH, '//*[@id=\"cbox_module_wai_u_cbox_content_wrap_tabpanel\"]/ul/li')\n",
    "\n",
    "        for com in com_list:\n",
    "            date = com.find_element(By.CLASS_NAME, 'u_cbox_date').get_attribute('data-value')\n",
    "            comment = com.find_element(By.CLASS_NAME, 'u_cbox_contents').text\n",
    "            recomm = com.find_element(By.CLASS_NAME, 'u_cbox_cnt_recomm').text\n",
    "            unrecomm = com.find_element(By.CLASS_NAME, 'u_cbox_cnt_unrecomm').text\n",
    "\n",
    "            # print([date, comment, recomm, unrecomm])\n",
    "\n",
    "            # data 입력\n",
    "            comments['date'].append(pd.to_datetime(date, format='%Y-%m-%dT%H:%M:%S%z').strftime('%Y-%m-%d %H:%M'))\n",
    "            comments['comment'].append(comment)\n",
    "            comments['recomm'].append(int(recomm))\n",
    "            comments['unrecomm'].append(int(unrecomm))\n",
    "\n",
    "        # 영화 리스트 페이지로 이동\n",
    "        driver.back()\n",
    "        time.sleep(3)\n",
    "        # break\n",
    "            \n",
    "except Exception as e:\n",
    "    print(f'Crawl Data Error Occurred: {e}')\n",
    "\n",
    "finally:\n",
    "    print(i)\n",
    "    # driver.close()"
   ]
  },
  {
   "cell_type": "code",
   "execution_count": 42,
   "id": "f09199b7-cf6d-46a1-8883-91f730076a60",
   "metadata": {},
   "outputs": [
    {
     "name": "stdout",
     "output_type": "stream",
     "text": [
      "<class 'pandas.core.frame.DataFrame'>\n",
      "RangeIndex: 31441 entries, 0 to 31440\n",
      "Data columns (total 4 columns):\n",
      " #   Column    Non-Null Count  Dtype \n",
      "---  ------    --------------  ----- \n",
      " 0   date      31441 non-null  object\n",
      " 1   comment   31441 non-null  object\n",
      " 2   recomm    31441 non-null  int64 \n",
      " 3   unrecomm  31441 non-null  int64 \n",
      "dtypes: int64(2), object(2)\n",
      "memory usage: 982.7+ KB\n"
     ]
    }
   ],
   "source": [
    "df = pd.DataFrame(comments)\n",
    "df.info()"
   ]
  },
  {
   "cell_type": "code",
   "execution_count": 43,
   "id": "38a2d7b7-4509-43bb-9388-bff04921d13c",
   "metadata": {},
   "outputs": [
    {
     "data": {
      "text/html": [
       "<div>\n",
       "<style scoped>\n",
       "    .dataframe tbody tr th:only-of-type {\n",
       "        vertical-align: middle;\n",
       "    }\n",
       "\n",
       "    .dataframe tbody tr th {\n",
       "        vertical-align: top;\n",
       "    }\n",
       "\n",
       "    .dataframe thead th {\n",
       "        text-align: right;\n",
       "    }\n",
       "</style>\n",
       "<table border=\"1\" class=\"dataframe\">\n",
       "  <thead>\n",
       "    <tr style=\"text-align: right;\">\n",
       "      <th></th>\n",
       "      <th>date</th>\n",
       "      <th>comment</th>\n",
       "      <th>recomm</th>\n",
       "      <th>unrecomm</th>\n",
       "    </tr>\n",
       "  </thead>\n",
       "  <tbody>\n",
       "    <tr>\n",
       "      <th>0</th>\n",
       "      <td>2023-08-15 23:32</td>\n",
       "      <td>네이버에서 8720원이래서 들어왔는데 왜 10900원이죠;</td>\n",
       "      <td>159</td>\n",
       "      <td>5</td>\n",
       "    </tr>\n",
       "    <tr>\n",
       "      <th>1</th>\n",
       "      <td>2023-08-12 13:18</td>\n",
       "      <td>이럴꺼면 바로보기라고 하지 알라니까?,</td>\n",
       "      <td>63</td>\n",
       "      <td>11</td>\n",
       "    </tr>\n",
       "    <tr>\n",
       "      <th>2</th>\n",
       "      <td>2023-08-11 10:29</td>\n",
       "      <td>배척과 차별의 핑계가 되었던 '다름'을 오히려 사랑하고, 하나가 되니... 따뜻하다...</td>\n",
       "      <td>47</td>\n",
       "      <td>5</td>\n",
       "    </tr>\n",
       "    <tr>\n",
       "      <th>3</th>\n",
       "      <td>2024-03-29 09:03</td>\n",
       "      <td>재생이 안 됩니다. 환불 부탁드립니다.</td>\n",
       "      <td>0</td>\n",
       "      <td>0</td>\n",
       "    </tr>\n",
       "    <tr>\n",
       "      <th>4</th>\n",
       "      <td>2024-03-01 20:06</td>\n",
       "      <td>재생이 안됩니다 환불 부탁드립니다</td>\n",
       "      <td>0</td>\n",
       "      <td>0</td>\n",
       "    </tr>\n",
       "  </tbody>\n",
       "</table>\n",
       "</div>"
      ],
      "text/plain": [
       "               date                                            comment  \\\n",
       "0  2023-08-15 23:32                   네이버에서 8720원이래서 들어왔는데 왜 10900원이죠;   \n",
       "1  2023-08-12 13:18                              이럴꺼면 바로보기라고 하지 알라니까?,   \n",
       "2  2023-08-11 10:29  배척과 차별의 핑계가 되었던 '다름'을 오히려 사랑하고, 하나가 되니... 따뜻하다...   \n",
       "3  2024-03-29 09:03                              재생이 안 됩니다. 환불 부탁드립니다.   \n",
       "4  2024-03-01 20:06                                 재생이 안됩니다 환불 부탁드립니다   \n",
       "\n",
       "   recomm  unrecomm  \n",
       "0     159         5  \n",
       "1      63        11  \n",
       "2      47         5  \n",
       "3       0         0  \n",
       "4       0         0  "
      ]
     },
     "execution_count": 43,
     "metadata": {},
     "output_type": "execute_result"
    }
   ],
   "source": [
    "# 변환된 데이터프레임 확인\n",
    "df.head()"
   ]
  },
  {
   "cell_type": "code",
   "execution_count": 44,
   "id": "6a316795-59b9-4803-aaba-ab8daa61ef9f",
   "metadata": {},
   "outputs": [],
   "source": [
    "saved_com = pd.read_csv('movie_comments(19649).csv')"
   ]
  },
  {
   "cell_type": "code",
   "execution_count": 46,
   "id": "4d4be891-a941-4281-b522-e673ad349262",
   "metadata": {},
   "outputs": [
    {
     "name": "stdout",
     "output_type": "stream",
     "text": [
      "<class 'pandas.core.frame.DataFrame'>\n",
      "RangeIndex: 51090 entries, 0 to 51089\n",
      "Data columns (total 4 columns):\n",
      " #   Column    Non-Null Count  Dtype \n",
      "---  ------    --------------  ----- \n",
      " 0   date      51090 non-null  object\n",
      " 1   comment   51090 non-null  object\n",
      " 2   recomm    51090 non-null  int64 \n",
      " 3   unrecomm  51090 non-null  int64 \n",
      "dtypes: int64(2), object(2)\n",
      "memory usage: 1.6+ MB\n"
     ]
    }
   ],
   "source": [
    "result = pd.concat([saved_com, df], ignore_index=True)\n",
    "result.info()"
   ]
  },
  {
   "cell_type": "code",
   "execution_count": 47,
   "id": "fe126144-4cc6-4010-85f0-bb190357e777",
   "metadata": {},
   "outputs": [
    {
     "data": {
      "text/html": [
       "<div>\n",
       "<style scoped>\n",
       "    .dataframe tbody tr th:only-of-type {\n",
       "        vertical-align: middle;\n",
       "    }\n",
       "\n",
       "    .dataframe tbody tr th {\n",
       "        vertical-align: top;\n",
       "    }\n",
       "\n",
       "    .dataframe thead th {\n",
       "        text-align: right;\n",
       "    }\n",
       "</style>\n",
       "<table border=\"1\" class=\"dataframe\">\n",
       "  <thead>\n",
       "    <tr style=\"text-align: right;\">\n",
       "      <th></th>\n",
       "      <th>date</th>\n",
       "      <th>comment</th>\n",
       "      <th>recomm</th>\n",
       "      <th>unrecomm</th>\n",
       "    </tr>\n",
       "  </thead>\n",
       "  <tbody>\n",
       "    <tr>\n",
       "      <th>0</th>\n",
       "      <td>2023-08-15 23:32</td>\n",
       "      <td>네이버에서 8720원이래서 들어왔는데 왜 10900원이죠;</td>\n",
       "      <td>159</td>\n",
       "      <td>5</td>\n",
       "    </tr>\n",
       "    <tr>\n",
       "      <th>1</th>\n",
       "      <td>2023-08-12 13:18</td>\n",
       "      <td>이럴꺼면 바로보기라고 하지 알라니까?,</td>\n",
       "      <td>63</td>\n",
       "      <td>11</td>\n",
       "    </tr>\n",
       "    <tr>\n",
       "      <th>2</th>\n",
       "      <td>2023-08-11 10:29</td>\n",
       "      <td>배척과 차별의 핑계가 되었던 '다름'을 오히려 사랑하고, 하나가 되니... 따뜻하다...</td>\n",
       "      <td>47</td>\n",
       "      <td>5</td>\n",
       "    </tr>\n",
       "    <tr>\n",
       "      <th>3</th>\n",
       "      <td>2024-03-29 09:03</td>\n",
       "      <td>재생이 안 됩니다. 환불 부탁드립니다.</td>\n",
       "      <td>0</td>\n",
       "      <td>0</td>\n",
       "    </tr>\n",
       "    <tr>\n",
       "      <th>4</th>\n",
       "      <td>2024-03-01 20:06</td>\n",
       "      <td>재생이 안됩니다 환불 부탁드립니다</td>\n",
       "      <td>0</td>\n",
       "      <td>0</td>\n",
       "    </tr>\n",
       "  </tbody>\n",
       "</table>\n",
       "</div>"
      ],
      "text/plain": [
       "               date                                            comment  \\\n",
       "0  2023-08-15 23:32                   네이버에서 8720원이래서 들어왔는데 왜 10900원이죠;   \n",
       "1  2023-08-12 13:18                              이럴꺼면 바로보기라고 하지 알라니까?,   \n",
       "2  2023-08-11 10:29  배척과 차별의 핑계가 되었던 '다름'을 오히려 사랑하고, 하나가 되니... 따뜻하다...   \n",
       "3  2024-03-29 09:03                              재생이 안 됩니다. 환불 부탁드립니다.   \n",
       "4  2024-03-01 20:06                                 재생이 안됩니다 환불 부탁드립니다   \n",
       "\n",
       "   recomm  unrecomm  \n",
       "0     159         5  \n",
       "1      63        11  \n",
       "2      47         5  \n",
       "3       0         0  \n",
       "4       0         0  "
      ]
     },
     "execution_count": 47,
     "metadata": {},
     "output_type": "execute_result"
    }
   ],
   "source": [
    "result.head()"
   ]
  },
  {
   "cell_type": "code",
   "execution_count": 48,
   "id": "34cd2965-8d29-4176-ab4b-ff2f25837da9",
   "metadata": {},
   "outputs": [],
   "source": [
    "result.to_csv(f'movie_comments({len(result)}).csv', index=False)"
   ]
  },
  {
   "cell_type": "code",
   "execution_count": null,
   "id": "29d2d560-8a03-4abc-9acb-fbb353b52448",
   "metadata": {},
   "outputs": [],
   "source": []
  }
 ],
 "metadata": {
  "kernelspec": {
   "display_name": "Python 3 (ipykernel)",
   "language": "python",
   "name": "python3"
  },
  "language_info": {
   "codemirror_mode": {
    "name": "ipython",
    "version": 3
   },
   "file_extension": ".py",
   "mimetype": "text/x-python",
   "name": "python",
   "nbconvert_exporter": "python",
   "pygments_lexer": "ipython3",
   "version": "3.11.7"
  }
 },
 "nbformat": 4,
 "nbformat_minor": 5
}
