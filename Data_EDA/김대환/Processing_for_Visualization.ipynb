{
 "cells": [
  {
   "cell_type": "markdown",
   "id": "55745a0c-1b43-4620-8436-b8809c7e2e3d",
   "metadata": {},
   "source": [
    "#### 가설 1. 준비된 영화가 많은 장르일수록 사람들의 관심을 받기 힘들 것이다(블루오션, 레드오션 효과)"
   ]
  },
  {
   "cell_type": "code",
   "execution_count": 1,
   "id": "f673c7bf-519c-4ceb-af96-bb1383b68e24",
   "metadata": {},
   "outputs": [],
   "source": [
    "import pandas as pd"
   ]
  },
  {
   "cell_type": "code",
   "execution_count": 2,
   "id": "33be3d0d-194c-40c6-b797-8adcd69ab272",
   "metadata": {},
   "outputs": [],
   "source": [
    "data = pd.read_csv('preprocessed_SeriesOn.csv')"
   ]
  },
  {
   "cell_type": "code",
   "execution_count": 3,
   "id": "2c5c2571-a45c-4b33-9a9a-07eceea07bb9",
   "metadata": {},
   "outputs": [],
   "source": [
    "# 각 장르별 영화 수 계산\n",
    "genres = ['is_action', 'is_comedy', 'is_drama', 'is_melo', 'is_horror', 'is_fantasy', 'is_animation', 'is_DQ', 'is_indie', 'is_concert']\n",
    "genre_counts = data[genres].sum().reset_index()\n",
    "genre_counts.columns = ['genre', 'movie_count']"
   ]
  },
  {
   "cell_type": "code",
   "execution_count": 4,
   "id": "826a3271-4bb6-4695-b4a6-7f4f0d15dd37",
   "metadata": {},
   "outputs": [],
   "source": [
    "# 각 장르별 관심도 합산 (평점, 좋아요, 댓글 수)\n",
    "genre_interest = data.melt(id_vars=['rating', 'like', 'comment'], value_vars=genres, var_name='genre', value_name='is_genre')\n",
    "genre_interest = genre_interest[genre_interest['is_genre'] == 1].groupby('genre')[['rating', 'like', 'comment']].mean().reset_index()"
   ]
  },
  {
   "cell_type": "code",
   "execution_count": 5,
   "id": "b01d614e-d606-4141-8bce-96d8bb3d6949",
   "metadata": {},
   "outputs": [],
   "source": [
    "# 데이터 병합\n",
    "final_data = pd.merge(genre_counts, genre_interest, on='genre')"
   ]
  },
  {
   "cell_type": "code",
   "execution_count": 6,
   "id": "234c1cf6-e292-4e1b-b28e-9b3aa8565d82",
   "metadata": {},
   "outputs": [],
   "source": [
    "# CSV 파일로 저장\n",
    "final_data.to_csv('genre_analysis.csv', index=False)"
   ]
  },
  {
   "cell_type": "markdown",
   "id": "1a4ddc2e-8b93-4b9a-abf5-6ffed99b0fed",
   "metadata": {},
   "source": [
    "#### 가설 2. 대여 기간이 길수록 좋아요 수가 높을 것이다"
   ]
  },
  {
   "cell_type": "code",
   "execution_count": 8,
   "id": "9b8e9d48-aa5c-4a85-a11f-4a33f20fea15",
   "metadata": {},
   "outputs": [],
   "source": [
    "# 'period' 필드를 숫자형 '일' 단위로 변환\n",
    "def convert_period_to_days(period):\n",
    "    if period == '제한 없음':\n",
    "        return 0\n",
    "    elif '일' in period:\n",
    "        return int(period.replace('일', ''))\n",
    "    elif '년' in period:\n",
    "        return int(period.replace('년', '')) * 365\n",
    "    else:\n",
    "        return pd.NA\n",
    "\n",
    "data['period_days'] = data['period'].apply(convert_period_to_days)"
   ]
  },
  {
   "cell_type": "code",
   "execution_count": 9,
   "id": "42006142-beed-4589-a979-f2866e5df2e9",
   "metadata": {},
   "outputs": [],
   "source": [
    "# 필요한 필드만 선택\n",
    "rent_data = data[['period_days', 'like']]\n",
    "\n",
    "# NaN 값 제거\n",
    "rent_data = rent_data.dropna()"
   ]
  },
  {
   "cell_type": "code",
   "execution_count": 10,
   "id": "8d49d958-b004-4ed8-b948-0332287b251b",
   "metadata": {},
   "outputs": [],
   "source": [
    "# CSV 파일로 저장\n",
    "rent_data.to_csv('rent_analysis_with_years.csv', index=False)"
   ]
  },
  {
   "cell_type": "code",
   "execution_count": null,
   "id": "4e91b136-fa04-42b6-ad52-ea84d70bcfbf",
   "metadata": {},
   "outputs": [],
   "source": []
  }
 ],
 "metadata": {
  "kernelspec": {
   "display_name": "Python 3 (ipykernel)",
   "language": "python",
   "name": "python3"
  },
  "language_info": {
   "codemirror_mode": {
    "name": "ipython",
    "version": 3
   },
   "file_extension": ".py",
   "mimetype": "text/x-python",
   "name": "python",
   "nbconvert_exporter": "python",
   "pygments_lexer": "ipython3",
   "version": "3.11.7"
  }
 },
 "nbformat": 4,
 "nbformat_minor": 5
}
